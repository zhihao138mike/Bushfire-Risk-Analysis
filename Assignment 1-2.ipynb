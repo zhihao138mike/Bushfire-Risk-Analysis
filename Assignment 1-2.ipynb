{
 "cells": [
  {
   "cell_type": "markdown",
   "metadata": {},
   "source": [
    "# Bushifire Risk Analysis"
   ]
  },
  {
   "cell_type": "markdown",
   "metadata": {},
   "source": [
    "### Data preprocessing:"
   ]
  },
  {
   "cell_type": "markdown",
   "metadata": {},
   "source": [
    "Import all the package that we need and set the path of our dataset"
   ]
  },
  {
   "cell_type": "code",
   "execution_count": 49,
   "metadata": {},
   "outputs": [],
   "source": [
    "from __future__ import (absolute_import, division, print_function)\n",
    "import os\n",
    "import json\n",
    "import requests\n",
    "\n",
    "import pandas as pd\n",
    "import matplotlib as mpl\n",
    "import matplotlib.pyplot as plt\n",
    "import numpy as np\n",
    "\n",
    "from shapely.geometry import Point, Polygon, MultiPolygon, MultiPoint\n",
    "import pandas as pd\n",
    "import geopandas as gpd\n",
    "from geopandas import GeoSeries, GeoDataFrame\n",
    "from geoalchemy2 import Geometry, WKTElement\n",
    "from sqlalchemy import *\n",
    "from sqlalchemy import create_engine\n",
    "import psycopg2\n",
    "import psycopg2.extras\n",
    "import scipy.stats\n",
    "\n",
    "data_path = \"./data1\""
   ]
  },
  {
   "cell_type": "markdown",
   "metadata": {},
   "source": [
    "Read all the dataset that we need"
   ]
  },
  {
   "cell_type": "code",
   "execution_count": 2,
   "metadata": {},
   "outputs": [],
   "source": [
    "data_business = pd.read_csv(os.path.join(data_path, \"BusinessStats.csv\"))\n",
    "data_neighbour = pd.read_csv(os.path.join(data_path, \"Neighbourhoods.csv\"))\n",
    "data_statistical = pd.read_csv(os.path.join(data_path, \"StatisticalAreas.csv\"))\n",
    "shape = gpd.read_file(os.path.join(data_path, \"RFSNSW_BFPL_small.shp\"))\n",
    "boundary = gpd.read_file(os.path.join(data_path, \"SA2_2016_AUST.shp\"))"
   ]
  },
  {
   "cell_type": "markdown",
   "metadata": {},
   "source": [
    "Doing data cleaning, since our formula need logistic function and z-score, we decided to drop those column that with Null value instead of convert them into 0 value."
   ]
  },
  {
   "cell_type": "code",
   "execution_count": 3,
   "metadata": {},
   "outputs": [],
   "source": [
    "data_business1 = data_business.drop_duplicates()\n",
    "data_business1 = data_business1.dropna(subset = [\"number_of_businesses\", \"health_care_and_social_assistance\", \"public_administration_and_safety\"])\n",
    "data_neighbour1 = data_neighbour.drop_duplicates()\n",
    "data_neighbour1 = data_neighbour1.dropna(subset = [\"population\", \"number_of_dwellings\", \"land_area\"])\n",
    "data_neighbour1 = data_neighbour1[data_neighbour1.land_area != 0]\n",
    "data_statistical1 = data_statistical.drop_duplicates()\n",
    "data_statistical1 = data_statistical1.dropna()\n",
    "shape1 = shape.drop_duplicates()\n",
    "shape1 = shape1.dropna()\n",
    "boundary1 = boundary.drop_duplicates()\n",
    "boundary1 = boundary1[boundary1.geometry != None]"
   ]
  },
  {
   "cell_type": "markdown",
   "metadata": {},
   "source": [
    "rename columns' name to fit our schema"
   ]
  },
  {
   "cell_type": "code",
   "execution_count": 4,
   "metadata": {},
   "outputs": [],
   "source": [
    "data_business1.rename(columns = {'accommodation_and_food_services':'accommodation_and_food'}, inplace = True)\n",
    "data_neighbour1.rename(columns = {'number_of_dwellings':'dwellings', \n",
    "                                  'number_of_businesses':'businesses', \n",
    "                                  'median_annual_household_income':'median_income'}, inplace = True)\n",
    "shape1.columns = shape1.columns.str.lower()\n",
    "boundary1.columns = [\"sa2_main16\", \"sa2_5dig16\", \"sa2_name16\", \"sa3_code\", \"sa3_name\", \"sa4_code\", \"sa4_name\", \n",
    "                     \"gcc_code\", \"gcc_name\", \"ste_code\", \"ste_name\", \"areasqkm16\", \"geometry\"]"
   ]
  },
  {
   "cell_type": "markdown",
   "metadata": {},
   "source": [
    "convert number with \",\" to the format of integer"
   ]
  },
  {
   "cell_type": "code",
   "execution_count": 5,
   "metadata": {},
   "outputs": [],
   "source": [
    "data_neighbour1[\"population\"] = data_neighbour1[\"population\"].str.replace(\",\", \"\").astype(int)\n",
    "data_neighbour1[\"dwellings\"] = data_neighbour1[\"dwellings\"].str.replace(\",\", \"\").astype(int)"
   ]
  },
  {
   "cell_type": "markdown",
   "metadata": {},
   "source": [
    "Since we choose area_id in statistical_area as primary key, we filter out all the area_id and 9 digits sa2 data that not in the statistical_area"
   ]
  },
  {
   "cell_type": "code",
   "execution_count": 6,
   "metadata": {},
   "outputs": [],
   "source": [
    "# statistical_area & businesses\n",
    "common = list(set(data_statistical1.area_id).intersection(set(data_business1.area_id)))\n",
    "data_business1 = data_business1[data_business1[\"area_id\"].isin(common)]\n",
    "# statistical_area & neighbourhood\n",
    "common = list(set(data_statistical1.area_id).intersection(set(data_neighbour1.area_id)))\n",
    "data_neighbour1 = data_neighbour1[data_neighbour1[\"area_id\"].isin(common)]\n",
    "# statistical_area & sa2 data\n",
    "common = list(set(data_statistical1.area_id).intersection(set(boundary1.sa2_main16.astype(int))))\n",
    "boundary1 = boundary1[boundary1[\"sa2_main16\"].astype(int).isin(common)]"
   ]
  },
  {
   "cell_type": "markdown",
   "metadata": {},
   "source": [
    "Create function to connect sql db"
   ]
  },
  {
   "cell_type": "code",
   "execution_count": 7,
   "metadata": {},
   "outputs": [],
   "source": [
    "data_path = \".\"\n",
    "\n",
    "def pgconnect(credential_filepath, db_schema=\"public\"):\n",
    "    with open(credential_filepath) as f:\n",
    "        db_conn_dict = json.load(f)\n",
    "        HOST       = db_conn_dict['host']\n",
    "        DB_USER    = db_conn_dict['user']\n",
    "        DB_PW      = db_conn_dict['password']\n",
    "        DEFAULT_DB = db_conn_dict['user']\n",
    "\n",
    "        try:\n",
    "            db = create_engine('postgres+psycopg2://'+DB_USER+':'+DB_PW+'@'+HOST+'/'+DEFAULT_DB, echo=False)\n",
    "            conn = db.connect()\n",
    "            print('connected')\n",
    "        except Exception as e:\n",
    "            print(\"unable to connect to the database\")\n",
    "            print(e)\n",
    "        return db,conn\n",
    "\n",
    "credfilepath = os.path.join(data_path, \"data2x01_db.json\")"
   ]
  },
  {
   "cell_type": "code",
   "execution_count": 59,
   "metadata": {},
   "outputs": [
    {
     "name": "stdout",
     "output_type": "stream",
     "text": [
      "connected\n"
     ]
    }
   ],
   "source": [
    "db,conn = pgconnect(credfilepath)"
   ]
  },
  {
   "cell_type": "markdown",
   "metadata": {},
   "source": [
    "Create function to execute sql command"
   ]
  },
  {
   "cell_type": "code",
   "execution_count": 9,
   "metadata": {},
   "outputs": [],
   "source": [
    "def pgexecute( conn, sqlcmd, args=None, msg='', silent=False ):\n",
    "    \"\"\" utility function to execute some SQL query statement\n",
    "       can take optional arguments to fill in (dictionary)\n",
    "       will print out on screen the result set of the query\n",
    "       error and transaction handling built-in \"\"\"\n",
    "    retval = False\n",
    "    result_set = None\n",
    "\n",
    "    try:\n",
    "        if args is None:\n",
    "            result_set = conn.execute(sqlcmd).fetchall()\n",
    "        else:\n",
    "            result_set = conn.execute(sqlcmd, args).fetchall()\n",
    "\n",
    "        if silent == False: \n",
    "            print(\"success: \" + msg)\n",
    "            for record in result_set:\n",
    "                print(record)\n",
    "        retval = True\n",
    "    except Exception as e:\n",
    "        if silent == False:\n",
    "            print(\"db read error: \")\n",
    "            print(e)\n",
    "    return retval\n",
    "\n",
    "def pgquery( conn, sqlcmd, args=None, silent=False ):\n",
    "    \"\"\" utility function to execute some SQL query statement\n",
    "    can take optional arguments to fill in (dictionary)\n",
    "    will print out on screen the result set of the query\n",
    "    error and transaction handling built-in \"\"\"\n",
    "    retdf = pd.DataFrame()\n",
    "    retval = False\n",
    "    try:\n",
    "        if args is None:\n",
    "            retdf = pd.read_sql_query(sqlcmd,conn)\n",
    "        else:\n",
    "            retdf = pd.read_sql_query(sqlcmd,conn,params=args)\n",
    "        if silent == False:\n",
    "            print(retdf.shape)\n",
    "            print(retdf.to_string())\n",
    "        retval = True\n",
    "    except Exception as e:\n",
    "        if silent == False:\n",
    "            print(\"db read error: \")\n",
    "            print(e)\n",
    "    return retval,retdf"
   ]
  },
  {
   "cell_type": "markdown",
   "metadata": {},
   "source": [
    "Build schema"
   ]
  },
  {
   "cell_type": "code",
   "execution_count": 11,
   "metadata": {
    "scrolled": false
   },
   "outputs": [
    {
     "name": "stdout",
     "output_type": "stream",
     "text": [
      "['spatial_ref_sys', 'statisticalareas', 'neighbourhoods', 'businessstats', 'rfsnsw_bfpl', 'sa2_2016_aust']\n"
     ]
    }
   ],
   "source": [
    "# rest table if needed\n",
    "conn.execute(\"DROP TABLE IF EXISTS neighbourhoods\")\n",
    "conn.execute(\"DROP TABLE IF EXISTS businessstats\")\n",
    "conn.execute(\"DROP TABLE IF EXISTS rfsnsw_bfpl\")\n",
    "conn.execute(\"DROP TABLE IF EXISTS sa2_2016_aust\")\n",
    "conn.execute(\"DROP TABLE IF EXISTS statisticalareas\")\n",
    "\n",
    "# build schema\n",
    "statisticalareas_schema = \"\"\"CREATE TABLE IF NOT EXISTS statisticalareas (\n",
    "                         area_id            INTEGER     PRIMARY KEY,\n",
    "                         area_name          VARCHAR(50) NOT NULL,\n",
    "                         parent_area_id     INTEGER\n",
    "                   )\"\"\"\n",
    "\n",
    "neighbourhoods_schema = \"\"\"CREATE TABLE IF NOT EXISTS neighbourhoods (\n",
    "                         area_id            INTEGER   PRIMARY KEY REFERENCES statisticalareas(area_id),\n",
    "                         area_name          VARCHAR(50)   UNIQUE NOT NULL, \n",
    "                         land_area          NUMERIC,\n",
    "                         population         INTEGER,\n",
    "                         dwellings          INTEGER,\n",
    "                         businesses         INTEGER,\n",
    "                         median_income      INTEGER,\n",
    "                         avg_monthly_rent   INTEGER     \n",
    "                   )\"\"\"\n",
    "\n",
    "businessstats_schema = \"\"\"CREATE TABLE IF NOT EXISTS businessstats (\n",
    "                         area_id                            INTEGER    PRIMARY KEY REFERENCES statisticalareas(area_id),\n",
    "                         area_name                          VARCHAR(50)   UNIQUE NOT NULL,\n",
    "                         number_of_businesses               INTEGER,\n",
    "                         accommodation_and_food             INTEGER,\n",
    "                         retail_trade                       INTEGER,\n",
    "                         agriculture_forestry_and_fishing   INTEGER,\n",
    "                         health_care_and_social_assistance  INTEGER,\n",
    "                         public_administration_and_safety   INTEGER,\n",
    "                         transport_postal_and_warehousing   INTEGER\n",
    "                   )\"\"\"\n",
    "\n",
    "rfsnsw_bfpl_schema = \"\"\"CREATE TABLE IF NOT EXISTS rfsnsw_bfpl (\n",
    "                         category     NUMERIC   NOT NULL, \n",
    "                         shape_leng   NUMERIC   NOT NULL,\n",
    "                         shape_area   NUMERIC   NOT NULL,\n",
    "                         geom         GEOMETRY(POINT, 4283)    \n",
    "                   )\"\"\"\n",
    "\n",
    "sa2_2016_aust_schema = \"\"\"CREATE TABLE IF NOT EXISTS sa2_2016_aust (\n",
    "                         sa2_main16   INTEGER        PRIMARY KEY    REFERENCES statisticalareas(area_id),\n",
    "                         sa2_5dig16   INTEGER        UNIQUE NOT NULL,\n",
    "                         sa2_name16   VARCHAR(50)    UNIQUE NOT NULL,\n",
    "                         sa3_code     INTEGER,\n",
    "                         sa3_name     VARCHAR(50),\n",
    "                         sa4_code     INTEGER,\n",
    "                         sa4_name     VARCHAR(50),\n",
    "                         gcc_code     CHAR(5),\n",
    "                         gcc_name     VARCHAR(50),\n",
    "                         ste_code     INTEGER,\n",
    "                         ste_name     VARCHAR(50),\n",
    "                         areasqkm16   NUMERIC,\n",
    "                         geom         GEOMETRY(MULTIPOLYGON,4283) \n",
    "                   )\"\"\"\n",
    "\n",
    "\n",
    "\n",
    "# execute shcema in db\n",
    "conn.execute(statisticalareas_schema)\n",
    "conn.execute(neighbourhoods_schema)\n",
    "conn.execute(businessstats_schema)\n",
    "conn.execute(rfsnsw_bfpl_schema)\n",
    "conn.execute(sa2_2016_aust_schema)\n",
    "\n",
    "# check if it's successfully build\n",
    "print(db.table_names())"
   ]
  },
  {
   "cell_type": "markdown",
   "metadata": {},
   "source": [
    "Create function that use to do the coversion, from python shapely types to WKT format"
   ]
  },
  {
   "cell_type": "code",
   "execution_count": 12,
   "metadata": {},
   "outputs": [],
   "source": [
    "def create_wkt_point_element(geom,srid):\n",
    "    return WKTElement(geom.wkt, srid)\n",
    "\n",
    "def create_wkt_element(geom,srid):\n",
    "    if (geom.geom_type == 'Polygon'):\n",
    "        geom = MultiPolygon([geom])\n",
    "    return WKTElement(geom.wkt, srid)\n",
    "\n",
    "srid = 4283"
   ]
  },
  {
   "cell_type": "markdown",
   "metadata": {},
   "source": [
    "Convert geo data from two tables to WKT format"
   ]
  },
  {
   "cell_type": "code",
   "execution_count": 13,
   "metadata": {},
   "outputs": [],
   "source": [
    "shapeWkCpy = shape1.copy()\n",
    "shapeWkCpy['geom'] = shapeWkCpy['geometry'].apply(lambda x: create_wkt_point_element(geom=x,srid=srid))\n",
    "shapeWkCpy = shapeWkCpy.drop(columns=\"geometry\")\n",
    "shapeWkCpy.columns= shapeWkCpy.columns.str.lower()"
   ]
  },
  {
   "cell_type": "code",
   "execution_count": 14,
   "metadata": {},
   "outputs": [
    {
     "data": {
      "text/html": [
       "<div>\n",
       "<style scoped>\n",
       "    .dataframe tbody tr th:only-of-type {\n",
       "        vertical-align: middle;\n",
       "    }\n",
       "\n",
       "    .dataframe tbody tr th {\n",
       "        vertical-align: top;\n",
       "    }\n",
       "\n",
       "    .dataframe thead th {\n",
       "        text-align: right;\n",
       "    }\n",
       "</style>\n",
       "<table border=\"1\" class=\"dataframe\">\n",
       "  <thead>\n",
       "    <tr style=\"text-align: right;\">\n",
       "      <th></th>\n",
       "      <th>sa2_main16</th>\n",
       "      <th>sa2_5dig16</th>\n",
       "      <th>sa2_name16</th>\n",
       "      <th>sa3_code</th>\n",
       "      <th>sa3_name</th>\n",
       "      <th>sa4_code</th>\n",
       "      <th>sa4_name</th>\n",
       "      <th>gcc_code</th>\n",
       "      <th>gcc_name</th>\n",
       "      <th>ste_code</th>\n",
       "      <th>ste_name</th>\n",
       "      <th>areasqkm16</th>\n",
       "      <th>geom</th>\n",
       "    </tr>\n",
       "  </thead>\n",
       "  <tbody>\n",
       "    <tr>\n",
       "      <th>22</th>\n",
       "      <td>101051540</td>\n",
       "      <td>11540</td>\n",
       "      <td>Goulburn Region</td>\n",
       "      <td>10105</td>\n",
       "      <td>Goulburn - Mulwaree</td>\n",
       "      <td>101</td>\n",
       "      <td>Capital Region</td>\n",
       "      <td>1RNSW</td>\n",
       "      <td>Rest of NSW</td>\n",
       "      <td>1</td>\n",
       "      <td>New South Wales</td>\n",
       "      <td>9035.1221</td>\n",
       "      <td>MULTIPOLYGON (((149.096311837 -34.418943888999...</td>\n",
       "    </tr>\n",
       "    <tr>\n",
       "      <th>27</th>\n",
       "      <td>102011028</td>\n",
       "      <td>11028</td>\n",
       "      <td>Avoca Beach - Copacabana</td>\n",
       "      <td>10201</td>\n",
       "      <td>Gosford</td>\n",
       "      <td>102</td>\n",
       "      <td>Central Coast</td>\n",
       "      <td>1GSYD</td>\n",
       "      <td>Greater Sydney</td>\n",
       "      <td>1</td>\n",
       "      <td>New South Wales</td>\n",
       "      <td>6.4376</td>\n",
       "      <td>MULTIPOLYGON (((151.4137275700001 -33.46559324...</td>\n",
       "    </tr>\n",
       "    <tr>\n",
       "      <th>28</th>\n",
       "      <td>102011029</td>\n",
       "      <td>11029</td>\n",
       "      <td>Box Head - MacMasters Beach</td>\n",
       "      <td>10201</td>\n",
       "      <td>Gosford</td>\n",
       "      <td>102</td>\n",
       "      <td>Central Coast</td>\n",
       "      <td>1GSYD</td>\n",
       "      <td>Greater Sydney</td>\n",
       "      <td>1</td>\n",
       "      <td>New South Wales</td>\n",
       "      <td>32.0860</td>\n",
       "      <td>MULTIPOLYGON (((151.3539836770001 -33.49854010...</td>\n",
       "    </tr>\n",
       "    <tr>\n",
       "      <th>29</th>\n",
       "      <td>102011030</td>\n",
       "      <td>11030</td>\n",
       "      <td>Calga - Kulnura</td>\n",
       "      <td>10201</td>\n",
       "      <td>Gosford</td>\n",
       "      <td>102</td>\n",
       "      <td>Central Coast</td>\n",
       "      <td>1GSYD</td>\n",
       "      <td>Greater Sydney</td>\n",
       "      <td>1</td>\n",
       "      <td>New South Wales</td>\n",
       "      <td>767.9512</td>\n",
       "      <td>MULTIPOLYGON (((151.204595054 -33.532982995999...</td>\n",
       "    </tr>\n",
       "    <tr>\n",
       "      <th>30</th>\n",
       "      <td>102011031</td>\n",
       "      <td>11031</td>\n",
       "      <td>Erina - Green Point</td>\n",
       "      <td>10201</td>\n",
       "      <td>Gosford</td>\n",
       "      <td>102</td>\n",
       "      <td>Central Coast</td>\n",
       "      <td>1GSYD</td>\n",
       "      <td>Greater Sydney</td>\n",
       "      <td>1</td>\n",
       "      <td>New South Wales</td>\n",
       "      <td>33.7934</td>\n",
       "      <td>MULTIPOLYGON (((151.3679483220001 -33.43822416...</td>\n",
       "    </tr>\n",
       "    <tr>\n",
       "      <th>...</th>\n",
       "      <td>...</td>\n",
       "      <td>...</td>\n",
       "      <td>...</td>\n",
       "      <td>...</td>\n",
       "      <td>...</td>\n",
       "      <td>...</td>\n",
       "      <td>...</td>\n",
       "      <td>...</td>\n",
       "      <td>...</td>\n",
       "      <td>...</td>\n",
       "      <td>...</td>\n",
       "      <td>...</td>\n",
       "      <td>...</td>\n",
       "    </tr>\n",
       "    <tr>\n",
       "      <th>571</th>\n",
       "      <td>128021537</td>\n",
       "      <td>11537</td>\n",
       "      <td>Royal National Park</td>\n",
       "      <td>12802</td>\n",
       "      <td>Sutherland - Menai - Heathcote</td>\n",
       "      <td>128</td>\n",
       "      <td>Sydney - Sutherland</td>\n",
       "      <td>1GSYD</td>\n",
       "      <td>Greater Sydney</td>\n",
       "      <td>1</td>\n",
       "      <td>New South Wales</td>\n",
       "      <td>139.3336</td>\n",
       "      <td>MULTIPOLYGON (((151.071650994 -34.057945007999...</td>\n",
       "    </tr>\n",
       "    <tr>\n",
       "      <th>572</th>\n",
       "      <td>128021538</td>\n",
       "      <td>11538</td>\n",
       "      <td>Sutherland - Kirrawee</td>\n",
       "      <td>12802</td>\n",
       "      <td>Sutherland - Menai - Heathcote</td>\n",
       "      <td>128</td>\n",
       "      <td>Sydney - Sutherland</td>\n",
       "      <td>1GSYD</td>\n",
       "      <td>Greater Sydney</td>\n",
       "      <td>1</td>\n",
       "      <td>New South Wales</td>\n",
       "      <td>7.7547</td>\n",
       "      <td>MULTIPOLYGON (((151.05049439 -34.0200584319999...</td>\n",
       "    </tr>\n",
       "    <tr>\n",
       "      <th>573</th>\n",
       "      <td>128021607</td>\n",
       "      <td>11607</td>\n",
       "      <td>Engadine</td>\n",
       "      <td>12802</td>\n",
       "      <td>Sutherland - Menai - Heathcote</td>\n",
       "      <td>128</td>\n",
       "      <td>Sydney - Sutherland</td>\n",
       "      <td>1GSYD</td>\n",
       "      <td>Greater Sydney</td>\n",
       "      <td>1</td>\n",
       "      <td>New South Wales</td>\n",
       "      <td>8.9538</td>\n",
       "      <td>MULTIPOLYGON (((150.9956780320001 -34.05362100...</td>\n",
       "    </tr>\n",
       "    <tr>\n",
       "      <th>574</th>\n",
       "      <td>128021608</td>\n",
       "      <td>11608</td>\n",
       "      <td>Loftus - Yarrawarrah</td>\n",
       "      <td>12802</td>\n",
       "      <td>Sutherland - Menai - Heathcote</td>\n",
       "      <td>128</td>\n",
       "      <td>Sydney - Sutherland</td>\n",
       "      <td>1GSYD</td>\n",
       "      <td>Greater Sydney</td>\n",
       "      <td>1</td>\n",
       "      <td>New South Wales</td>\n",
       "      <td>3.8436</td>\n",
       "      <td>MULTIPOLYGON (((151.0395427830001 -34.04175791...</td>\n",
       "    </tr>\n",
       "    <tr>\n",
       "      <th>575</th>\n",
       "      <td>128021609</td>\n",
       "      <td>11609</td>\n",
       "      <td>Woronora Heights</td>\n",
       "      <td>12802</td>\n",
       "      <td>Sutherland - Menai - Heathcote</td>\n",
       "      <td>128</td>\n",
       "      <td>Sydney - Sutherland</td>\n",
       "      <td>1GSYD</td>\n",
       "      <td>Greater Sydney</td>\n",
       "      <td>1</td>\n",
       "      <td>New South Wales</td>\n",
       "      <td>3.1374</td>\n",
       "      <td>MULTIPOLYGON (((151.0185160090001 -34.03120499...</td>\n",
       "    </tr>\n",
       "  </tbody>\n",
       "</table>\n",
       "<p>322 rows × 13 columns</p>\n",
       "</div>"
      ],
      "text/plain": [
       "    sa2_main16 sa2_5dig16                   sa2_name16 sa3_code  \\\n",
       "22   101051540      11540              Goulburn Region    10105   \n",
       "27   102011028      11028     Avoca Beach - Copacabana    10201   \n",
       "28   102011029      11029  Box Head - MacMasters Beach    10201   \n",
       "29   102011030      11030              Calga - Kulnura    10201   \n",
       "30   102011031      11031          Erina - Green Point    10201   \n",
       "..         ...        ...                          ...      ...   \n",
       "571  128021537      11537          Royal National Park    12802   \n",
       "572  128021538      11538        Sutherland - Kirrawee    12802   \n",
       "573  128021607      11607                     Engadine    12802   \n",
       "574  128021608      11608         Loftus - Yarrawarrah    12802   \n",
       "575  128021609      11609             Woronora Heights    12802   \n",
       "\n",
       "                           sa3_name sa4_code             sa4_name gcc_code  \\\n",
       "22              Goulburn - Mulwaree      101       Capital Region    1RNSW   \n",
       "27                          Gosford      102        Central Coast    1GSYD   \n",
       "28                          Gosford      102        Central Coast    1GSYD   \n",
       "29                          Gosford      102        Central Coast    1GSYD   \n",
       "30                          Gosford      102        Central Coast    1GSYD   \n",
       "..                              ...      ...                  ...      ...   \n",
       "571  Sutherland - Menai - Heathcote      128  Sydney - Sutherland    1GSYD   \n",
       "572  Sutherland - Menai - Heathcote      128  Sydney - Sutherland    1GSYD   \n",
       "573  Sutherland - Menai - Heathcote      128  Sydney - Sutherland    1GSYD   \n",
       "574  Sutherland - Menai - Heathcote      128  Sydney - Sutherland    1GSYD   \n",
       "575  Sutherland - Menai - Heathcote      128  Sydney - Sutherland    1GSYD   \n",
       "\n",
       "           gcc_name ste_code         ste_name  areasqkm16  \\\n",
       "22      Rest of NSW        1  New South Wales   9035.1221   \n",
       "27   Greater Sydney        1  New South Wales      6.4376   \n",
       "28   Greater Sydney        1  New South Wales     32.0860   \n",
       "29   Greater Sydney        1  New South Wales    767.9512   \n",
       "30   Greater Sydney        1  New South Wales     33.7934   \n",
       "..              ...      ...              ...         ...   \n",
       "571  Greater Sydney        1  New South Wales    139.3336   \n",
       "572  Greater Sydney        1  New South Wales      7.7547   \n",
       "573  Greater Sydney        1  New South Wales      8.9538   \n",
       "574  Greater Sydney        1  New South Wales      3.8436   \n",
       "575  Greater Sydney        1  New South Wales      3.1374   \n",
       "\n",
       "                                                  geom  \n",
       "22   MULTIPOLYGON (((149.096311837 -34.418943888999...  \n",
       "27   MULTIPOLYGON (((151.4137275700001 -33.46559324...  \n",
       "28   MULTIPOLYGON (((151.3539836770001 -33.49854010...  \n",
       "29   MULTIPOLYGON (((151.204595054 -33.532982995999...  \n",
       "30   MULTIPOLYGON (((151.3679483220001 -33.43822416...  \n",
       "..                                                 ...  \n",
       "571  MULTIPOLYGON (((151.071650994 -34.057945007999...  \n",
       "572  MULTIPOLYGON (((151.05049439 -34.0200584319999...  \n",
       "573  MULTIPOLYGON (((150.9956780320001 -34.05362100...  \n",
       "574  MULTIPOLYGON (((151.0395427830001 -34.04175791...  \n",
       "575  MULTIPOLYGON (((151.0185160090001 -34.03120499...  \n",
       "\n",
       "[322 rows x 13 columns]"
      ]
     },
     "execution_count": 14,
     "metadata": {},
     "output_type": "execute_result"
    }
   ],
   "source": [
    "boundaryWkCpy = boundary1.copy()\n",
    "boundaryWkCpy['geom'] = boundaryWkCpy['geometry'].apply(lambda x: create_wkt_element(geom=x,srid=srid))\n",
    "boundaryWkCpy = boundaryWkCpy.drop(columns=\"geometry\")\n",
    "boundaryWkCpy"
   ]
  },
  {
   "cell_type": "markdown",
   "metadata": {},
   "source": [
    "Put all the needed data into sql db"
   ]
  },
  {
   "cell_type": "code",
   "execution_count": 15,
   "metadata": {
    "scrolled": false
   },
   "outputs": [],
   "source": [
    "data_statistical1.to_sql(\"statisticalareas\", con=conn, if_exists='append',index=False)\n",
    "data_business1.to_sql(\"businessstats\", con=conn, if_exists='append',index=False)\n",
    "data_neighbour1.to_sql(\"neighbourhoods\", con=conn, if_exists='append',index=False)\n",
    "shapeWkCpy.to_sql(\"rfsnsw_bfpl\", con=conn, if_exists='append',index=False, \n",
    "             dtype={'geom': Geometry('POINT', 4283)})\n",
    "boundaryWkCpy.to_sql(\"sa2_2016_aust\", con=conn, if_exists='append',index=False, \n",
    "             dtype={'geom': Geometry('MULTIPOLYGON', 4283)})"
   ]
  },
  {
   "cell_type": "markdown",
   "metadata": {},
   "source": [
    "Create spatial index on rfsnsw_bfpl, sa2_2016_aust"
   ]
  },
  {
   "cell_type": "code",
   "execution_count": 16,
   "metadata": {},
   "outputs": [
    {
     "data": {
      "text/plain": [
       "<sqlalchemy.engine.result.ResultProxy at 0x7fbe0156ed30>"
      ]
     },
     "execution_count": 16,
     "metadata": {},
     "output_type": "execute_result"
    }
   ],
   "source": [
    "index_command = \"CREATE INDEX shape_idx ON rfsnsw_bfpl USING GIST (geom)\"\n",
    "conn.execute(\"DROP INDEX IF EXISTS shape_idx\")\n",
    "conn.execute(index_command)\n",
    "\n",
    "index_command = \"CREATE INDEX boundary_idx ON sa2_2016_aust USING GIST (geom)\"\n",
    "conn.execute(\"DROP INDEX IF EXISTS boundary_idx\")\n",
    "conn.execute(index_command)"
   ]
  },
  {
   "cell_type": "markdown",
   "metadata": {},
   "source": [
    "Create a View that include the area_id of Greater Sydney"
   ]
  },
  {
   "cell_type": "code",
   "execution_count": 17,
   "metadata": {},
   "outputs": [
    {
     "data": {
      "text/plain": [
       "<sqlalchemy.engine.result.ResultProxy at 0x7fbded2780d0>"
      ]
     },
     "execution_count": 17,
     "metadata": {},
     "output_type": "execute_result"
    }
   ],
   "source": [
    "query = \"\"\" CREATE VIEW NSWAreaID AS\n",
    "            SELECT area_id \n",
    "            FROM statisticalareas\n",
    "            WHERE parent_area_id IN (SELECT area_id\n",
    "                                     FROM statisticalareas\n",
    "                                     WHERE parent_area_id IN (SELECT area_id\n",
    "                                                              FROM statisticalareas\n",
    "                                                              WHERE parent_area_id = 10 or parent_area_id = 11))\"\"\"\n",
    "conn.execute(query)"
   ]
  },
  {
   "cell_type": "markdown",
   "metadata": {},
   "source": [
    "z-socre of population density"
   ]
  },
  {
   "cell_type": "code",
   "execution_count": 18,
   "metadata": {},
   "outputs": [
    {
     "data": {
      "text/plain": [
       "<sqlalchemy.engine.result.ResultProxy at 0x7fbded278160>"
      ]
     },
     "execution_count": 18,
     "metadata": {},
     "output_type": "execute_result"
    }
   ],
   "source": [
    "query = \"\"\" CREATE VIEW PopulationDensity AS\n",
    "            SELECT CAST(CAST(population AS FLOAT)/ CAST(areasqkm16 AS FLOAT) AS FLOAT) AS population_density,\n",
    "                   area_id\n",
    "            FROM neighbourhoods join NSWAreaID USING(area_id) join sa2_2016_aust ON (area_id = sa2_main16)\"\"\"\n",
    "conn.execute(query)\n",
    "\n",
    "query = \"\"\" CREATE VIEW PopulationDensity_zscore AS\n",
    "            SELECT ABS((population_density - average)) / std AS z_score, area_id\n",
    "            FROM PopulationDensity PD1, \n",
    "                 (SELECT AVG(population_density) AS average,\n",
    "                         STDDEV(population_density) AS std\n",
    "                  FROM PopulationDensity) PD2\"\"\"\n",
    "conn.execute(query)"
   ]
  },
  {
   "cell_type": "markdown",
   "metadata": {},
   "source": [
    "z-score of dwelling density"
   ]
  },
  {
   "cell_type": "code",
   "execution_count": 19,
   "metadata": {},
   "outputs": [
    {
     "data": {
      "text/plain": [
       "<sqlalchemy.engine.result.ResultProxy at 0x7fbded252fd0>"
      ]
     },
     "execution_count": 19,
     "metadata": {},
     "output_type": "execute_result"
    }
   ],
   "source": [
    "query = \"\"\" CREATE VIEW DwellingDensity AS\n",
    "            SELECT CAST(CAST(dwellings AS FLOAT)/ CAST(areasqkm16 AS FLOAT) AS FLOAT) AS dwelling_density,\n",
    "                   area_id\n",
    "            FROM neighbourhoods join NSWAreaID USING(area_id) join sa2_2016_aust ON (area_id = sa2_main16)\"\"\"\n",
    "conn.execute(query)\n",
    "\n",
    "query = \"\"\" CREATE VIEW DwellingDensity_zscore AS\n",
    "            SELECT (dwelling_density - average) / std AS z_score, area_id\n",
    "            FROM DwellingDensity PD1, \n",
    "                 (SELECT AVG(dwelling_density) AS average,\n",
    "                         STDDEV(dwelling_density) AS std\n",
    "                  FROM DwellingDensity) PD2\"\"\"\n",
    "conn.execute(query)"
   ]
  },
  {
   "cell_type": "markdown",
   "metadata": {},
   "source": [
    "z-score of businesses density"
   ]
  },
  {
   "cell_type": "code",
   "execution_count": 20,
   "metadata": {},
   "outputs": [
    {
     "data": {
      "text/plain": [
       "<sqlalchemy.engine.result.ResultProxy at 0x7fbe021e2910>"
      ]
     },
     "execution_count": 20,
     "metadata": {},
     "output_type": "execute_result"
    }
   ],
   "source": [
    "query = \"\"\" CREATE VIEW BusinessesDensity AS\n",
    "            SELECT CAST(CAST(number_of_businesses AS FLOAT)/ CAST(areasqkm16 AS FLOAT) AS FLOAT) AS businesses_density,\n",
    "                   area_id\n",
    "            FROM neighbourhoods join NSWAreaID USING(area_id) join businessstats using(area_id) join sa2_2016_aust ON (area_id = sa2_main16)\"\"\"\n",
    "conn.execute(query)\n",
    "\n",
    "query = \"\"\" CREATE VIEW BusinessesDensity_zscore AS\n",
    "            SELECT (businesses_density - average) / std AS z_score, area_id\n",
    "            FROM BusinessesDensity PD1, \n",
    "                 (SELECT AVG(businesses_density) AS average,\n",
    "                         STDDEV(businesses_density) AS std\n",
    "                  FROM BusinessesDensity) PD2\"\"\"\n",
    "conn.execute(query)"
   ]
  },
  {
   "cell_type": "markdown",
   "metadata": {},
   "source": [
    "z-score of assistive service density"
   ]
  },
  {
   "cell_type": "code",
   "execution_count": 21,
   "metadata": {},
   "outputs": [
    {
     "data": {
      "text/plain": [
       "<sqlalchemy.engine.result.ResultProxy at 0x7fbe021d9b80>"
      ]
     },
     "execution_count": 21,
     "metadata": {},
     "output_type": "execute_result"
    }
   ],
   "source": [
    "query = \"\"\" CREATE VIEW AssistiveServiceDensity AS\n",
    "            SELECT CAST((CAST(health_care_and_social_assistance AS FLOAT) + CAST(public_administration_and_safety AS FLOAT)) / CAST(land_area AS FLOAT) AS FLOAT) AS AssistiveService_density,\n",
    "                   area_id\n",
    "            FROM neighbourhoods join NSWAreaID USING(area_id) join businessstats using(area_id)\"\"\"\n",
    "conn.execute(query)\n",
    "\n",
    "query = \"\"\" CREATE VIEW AssistiveServiceDensity_zscore AS\n",
    "            SELECT (AssistiveService_density - average) / std AS z_score, area_id\n",
    "            FROM AssistiveServiceDensity PD1, \n",
    "                 (SELECT AVG(AssistiveService_density) AS average,\n",
    "                         STDDEV(AssistiveService_density) AS std\n",
    "                  FROM AssistiveServiceDensity) PD2\"\"\"\n",
    "conn.execute(query)"
   ]
  },
  {
   "cell_type": "markdown",
   "metadata": {},
   "source": [
    "z-score of bfpl density"
   ]
  },
  {
   "cell_type": "code",
   "execution_count": 39,
   "metadata": {},
   "outputs": [
    {
     "data": {
      "text/plain": [
       "<sqlalchemy.engine.result.ResultProxy at 0x7fbded26c730>"
      ]
     },
     "execution_count": 39,
     "metadata": {},
     "output_type": "execute_result"
    }
   ],
   "source": [
    "query = \"\"\"CREATE VIEW bfpl_Sum AS\n",
    "           SELECT sa.sa2_main16 AS \"area_id\", rf.category AS \"category\", \n",
    "                  CASE WHEN rf.category = 1.0 THEN 1\n",
    "                       WHEN rf.category = 2.0 THEN 0.27\n",
    "                       ELSE 0.3\n",
    "                  END AS \"weight\",\n",
    "                  SUM(shape_area) AS \"sum\"\n",
    "           FROM NSWAreaID JOIN sa2_2016_aust sa ON(area_id = sa2_main16) LEFT OUTER JOIN rfsnsw_bfpl rf ON (ST_Contains(sa.geom, rf.geom))\n",
    "           GROUP BY sa.sa2_main16, rf.category\"\"\"\n",
    "conn.execute(query)\n",
    "\n",
    "\n",
    "query = \"\"\"CREATE VIEW bfpl_Density AS\n",
    "           SELECT area_id, SUM((CAST(COALESCE(sum, '0') AS FLOAT)/ CAST(areasqkm16 AS FLOAT)) * weight) AS \"bfpl_density\"\n",
    "           FROM bfpl_Sum join sa2_2016_aust ON (area_id = sa2_main16)\n",
    "           GROUP BY area_id\"\"\"\n",
    "conn.execute(query)\n",
    "\n",
    "query = \"\"\"CREATE VIEW bfpl_Density_zscore AS\n",
    "           SELECT area_id, (bfpl_density - average) / std AS z_score\n",
    "           FROM bfpl_Density BD1, \n",
    "                 (SELECT AVG(bfpl_density) AS average,\n",
    "                         STDDEV(bfpl_density) AS std\n",
    "                  FROM bfpl_Density) BD2\"\"\"\n",
    "conn.execute(query)"
   ]
  },
  {
   "cell_type": "markdown",
   "metadata": {},
   "source": [
    "z-score of recent hotspot density\n",
    "Because hotspot Json will update every 10 minutes, everytime re-run the following codes\n",
    "It will get the newest Json data"
   ]
  },
  {
   "cell_type": "code",
   "execution_count": 23,
   "metadata": {},
   "outputs": [
    {
     "data": {
      "text/plain": [
       "<sqlalchemy.engine.result.ResultProxy at 0x7fbdff03fdf0>"
      ]
     },
     "execution_count": 23,
     "metadata": {},
     "output_type": "execute_result"
    }
   ],
   "source": [
    "conn.execute(\"DROP VIEW IF EXISTS fire_risk_plot\")\n",
    "conn.execute(\"DROP VIEW IF EXISTS fire_risk\")\n",
    "conn.execute(\"DROP VIEW IF EXISTS hotspot_Density_zscore\")\n",
    "conn.execute(\"DROP VIEW IF EXISTS hotspot_Density\")\n",
    "conn.execute(\"DROP VIEW IF EXISTS hotspot_Sum\")\n",
    "gxWkCpy_schema = \"\"\"CREATE TABLE IF NOT EXISTS recent_hotspot (\n",
    "                         geom   GEOMETRY(POINT, 4283) \n",
    "                   )\"\"\"\n",
    "\n",
    "conn.execute(gxWkCpy_schema)"
   ]
  },
  {
   "cell_type": "code",
   "execution_count": 24,
   "metadata": {},
   "outputs": [
    {
     "data": {
      "text/html": [
       "<div>\n",
       "<style scoped>\n",
       "    .dataframe tbody tr th:only-of-type {\n",
       "        vertical-align: middle;\n",
       "    }\n",
       "\n",
       "    .dataframe tbody tr th {\n",
       "        vertical-align: top;\n",
       "    }\n",
       "\n",
       "    .dataframe thead th {\n",
       "        text-align: right;\n",
       "    }\n",
       "</style>\n",
       "<table border=\"1\" class=\"dataframe\">\n",
       "  <thead>\n",
       "    <tr style=\"text-align: right;\">\n",
       "      <th></th>\n",
       "      <th>geom</th>\n",
       "    </tr>\n",
       "  </thead>\n",
       "  <tbody>\n",
       "    <tr>\n",
       "      <th>0</th>\n",
       "      <td>POINT (153.0818 -28.9306)</td>\n",
       "    </tr>\n",
       "    <tr>\n",
       "      <th>1</th>\n",
       "      <td>POINT (152.5718 -31.7393)</td>\n",
       "    </tr>\n",
       "    <tr>\n",
       "      <th>2</th>\n",
       "      <td>POINT (153.0818 -28.9268)</td>\n",
       "    </tr>\n",
       "    <tr>\n",
       "      <th>3</th>\n",
       "      <td>POINT (152.5681 -31.7393)</td>\n",
       "    </tr>\n",
       "    <tr>\n",
       "      <th>4</th>\n",
       "      <td>POINT (153.1763 -29.4689)</td>\n",
       "    </tr>\n",
       "    <tr>\n",
       "      <th>...</th>\n",
       "      <td>...</td>\n",
       "    </tr>\n",
       "    <tr>\n",
       "      <th>876</th>\n",
       "      <td>POINT (145.9297 -30.8846)</td>\n",
       "    </tr>\n",
       "    <tr>\n",
       "      <th>877</th>\n",
       "      <td>POINT (145.9265 -30.8832)</td>\n",
       "    </tr>\n",
       "    <tr>\n",
       "      <th>878</th>\n",
       "      <td>POINT (145.9243 -30.8888)</td>\n",
       "    </tr>\n",
       "    <tr>\n",
       "      <th>879</th>\n",
       "      <td>POINT (145.9353 -30.8866)</td>\n",
       "    </tr>\n",
       "    <tr>\n",
       "      <th>880</th>\n",
       "      <td>POINT (145.9239 -33.1831)</td>\n",
       "    </tr>\n",
       "  </tbody>\n",
       "</table>\n",
       "<p>881 rows × 1 columns</p>\n",
       "</div>"
      ],
      "text/plain": [
       "                          geom\n",
       "0    POINT (153.0818 -28.9306)\n",
       "1    POINT (152.5718 -31.7393)\n",
       "2    POINT (153.0818 -28.9268)\n",
       "3    POINT (152.5681 -31.7393)\n",
       "4    POINT (153.1763 -29.4689)\n",
       "..                         ...\n",
       "876  POINT (145.9297 -30.8846)\n",
       "877  POINT (145.9265 -30.8832)\n",
       "878  POINT (145.9243 -30.8888)\n",
       "879  POINT (145.9353 -30.8866)\n",
       "880  POINT (145.9239 -33.1831)\n",
       "\n",
       "[881 rows x 1 columns]"
      ]
     },
     "execution_count": 24,
     "metadata": {},
     "output_type": "execute_result"
    }
   ],
   "source": [
    "response = requests.get(\"https://hotspots.dea.ga.gov.au/data/recent-hotspots.json\")\n",
    "web = response.json()\n",
    "\n",
    "x = pd.DataFrame({'longitude': [],'latitude': []})\n",
    "j = 0\n",
    "for i in range(len(web['features'])):\n",
    "    if (web['features'][i]['properties']['australian_state'] == \"NSW\"):\n",
    "        x.loc[j] = {'longitude': web['features'][i]['properties']['longitude'], 'latitude': web['features'][i]['properties']['latitude']}\n",
    "        j += 1\n",
    "\n",
    "gx = gpd.GeoDataFrame(\n",
    "    x, geometry=gpd.points_from_xy(x.longitude, x.latitude))\n",
    "\n",
    "gxWkCpy = gx.copy()\n",
    "gxWkCpy['geom'] = gxWkCpy['geometry'].apply(lambda x: create_wkt_point_element(geom=x,srid=srid))\n",
    "gxWkCpy = gxWkCpy.drop(columns=[\"geometry\", \"longitude\", \"latitude\"])\n",
    "gxWkCpy"
   ]
  },
  {
   "cell_type": "code",
   "execution_count": 25,
   "metadata": {},
   "outputs": [],
   "source": [
    "gxWkCpy.to_sql(\"recent_hotspot\", con=conn, if_exists='append',index=False, \n",
    "             dtype={'geom': Geometry('POINT', 4283)})"
   ]
  },
  {
   "cell_type": "code",
   "execution_count": 26,
   "metadata": {},
   "outputs": [
    {
     "data": {
      "text/plain": [
       "<sqlalchemy.engine.result.ResultProxy at 0x7fbded278220>"
      ]
     },
     "execution_count": 26,
     "metadata": {},
     "output_type": "execute_result"
    }
   ],
   "source": [
    "index_command = \"CREATE INDEX hotspot_idx ON recent_hotspot USING GIST (geom)\"\n",
    "conn.execute(\"DROP INDEX IF EXISTS boundary_idx\")\n",
    "conn.execute(index_command)"
   ]
  },
  {
   "cell_type": "code",
   "execution_count": 41,
   "metadata": {},
   "outputs": [
    {
     "data": {
      "text/plain": [
       "<sqlalchemy.engine.result.ResultProxy at 0x7fbdec1d2f10>"
      ]
     },
     "execution_count": 41,
     "metadata": {},
     "output_type": "execute_result"
    }
   ],
   "source": [
    "\n",
    "query = \"\"\"CREATE VIEW hotspot_Sum AS\n",
    "           SELECT sa.sa2_main16 AS \"area_id\", COUNT(rh.geom) AS hotspot_times\n",
    "           FROM NSWAreaID JOIN sa2_2016_aust sa ON(area_id = sa2_main16) LEFT OUTER JOIN recent_hotspot rh ON (ST_Contains(sa.geom, rh.geom))\n",
    "           GROUP BY sa.sa2_main16\"\"\"\n",
    "conn.execute(query)\n",
    "\n",
    "query = \"\"\"CREATE VIEW hotspot_Density AS\n",
    "           SELECT area_id, hotspot_times / CAST(areasqkm16 AS FLOAT) AS \"hotspot_density\"\n",
    "           FROM hotspot_Sum join sa2_2016_aust ON (area_id = sa2_main16)\"\"\"\n",
    "conn.execute(query)\n",
    "\n",
    "query = \"\"\"CREATE VIEW hotspot_Density_zscore AS\n",
    "           SELECT area_id, (hotspot_Density - average) / std AS z_score\n",
    "           FROM hotspot_Density HD1, \n",
    "                 (SELECT AVG(hotspot_density) AS average,\n",
    "                         STDDEV(hotspot_density) AS std\n",
    "                  FROM hotspot_Density) HD2\"\"\"\n",
    "conn.execute(query)"
   ]
  },
  {
   "cell_type": "markdown",
   "metadata": {},
   "source": [
    "Fire risk score"
   ]
  },
  {
   "cell_type": "code",
   "execution_count": 42,
   "metadata": {
    "scrolled": true
   },
   "outputs": [
    {
     "data": {
      "text/plain": [
       "<sqlalchemy.engine.result.ResultProxy at 0x7fbdd98f50a0>"
      ]
     },
     "execution_count": 42,
     "metadata": {},
     "output_type": "execute_result"
    }
   ],
   "source": [
    "query = \"\"\"CREATE VIEW fire_risk AS\n",
    "           SELECT area_id, 1/(1 + exp(-(pd.z_score + dd.z_score + bd.z_score + bfd.z_score - ad.z_score + hd.z_score))) AS fire_risk\n",
    "           FROM PopulationDensity_zscore pd \n",
    "                JOIN DwellingDensity_zscore dd USING(area_id) \n",
    "                JOIN BusinessesDensity_zscore bd USING(area_id)\n",
    "                JOIN AssistiveServiceDensity_zscore ad USING(area_id)\n",
    "                JOIN bfpl_Density_zscore bfd USING(area_id)\n",
    "                JOIN hotspot_Density_zscore hd USING(area_id)\"\"\"\n",
    "conn.execute(query)"
   ]
  },
  {
   "cell_type": "markdown",
   "metadata": {},
   "source": [
    "Create view to store the data for mapping"
   ]
  },
  {
   "cell_type": "code",
   "execution_count": 43,
   "metadata": {},
   "outputs": [
    {
     "data": {
      "text/plain": [
       "<sqlalchemy.engine.result.ResultProxy at 0x7fbdd994a4c0>"
      ]
     },
     "execution_count": 43,
     "metadata": {},
     "output_type": "execute_result"
    }
   ],
   "source": [
    "query = \"\"\"CREATE VIEW fire_risk_plot AS\n",
    "                SELECT area_id, fire_risk, sa.geom\n",
    "                FROM fire_risk fr JOIN sa2_2016_aust sa ON(fr.area_id = sa.sa2_main16)\"\"\"\n",
    "conn.execute(query)"
   ]
  },
  {
   "cell_type": "markdown",
   "metadata": {},
   "source": [
    "Visulisation"
   ]
  },
  {
   "cell_type": "code",
   "execution_count": 44,
   "metadata": {},
   "outputs": [
    {
     "data": {
      "text/plain": [
       "<AxesSubplot:>"
      ]
     },
     "execution_count": 44,
     "metadata": {},
     "output_type": "execute_result"
    },
    {
     "data": {
      "image/png": "[encoded data removed]",
      "text/plain": [
       "<Figure size 1080x1080 with 2 Axes>"
      ]
     },
     "metadata": {
      "needs_background": "light"
     },
     "output_type": "display_data"
    }
   ],
   "source": [
    "from mpl_toolkits.axes_grid1 import make_axes_locatable\n",
    "plt.rcParams[ \"figure.figsize\" ] = (15,15)\n",
    "\n",
    "fire_risk_map = gpd.read_postgis(\"SELECT * FROM fire_risk_plot\", conn)\n",
    "\n",
    "fig, ax = plt.subplots(1, 1)\n",
    "\n",
    "fire_risk = make_axes_locatable(ax)\n",
    "\n",
    "cax = fire_risk.append_axes(\"right\", size=\"5%\", pad=0.1)\n",
    "\n",
    "fire_risk_map.plot(column='fire_risk', ax=ax, legend=True, legend_kwds={'label': \"Fire risk score\"}, cax=cax)"
   ]
  },
  {
   "cell_type": "markdown",
   "metadata": {},
   "source": [
    "Save fire risk score into sql database"
   ]
  },
  {
   "cell_type": "code",
   "execution_count": 45,
   "metadata": {},
   "outputs": [
    {
     "name": "stdout",
     "output_type": "stream",
     "text": [
      "(1, 1)\n",
      "   count\n",
      "0    321\n"
     ]
    },
    {
     "data": {
      "text/plain": [
       "(True,\n",
       "    count\n",
       " 0    321)"
      ]
     },
     "execution_count": 45,
     "metadata": {},
     "output_type": "execute_result"
    }
   ],
   "source": [
    "query1 = \"\"\"SELECT area_id, fire_risk\n",
    "            FROM fire_risk\"\"\"\n",
    "\n",
    "SQL_query1 = pd.read_sql_query(query1, conn)\n",
    "fire_risk_df1 = pd.DataFrame(SQL_query1, columns = [\"area_id\", \"fire_risk\"])\n",
    "fire_risk_df1\n",
    "conn.execute(\"DROP TABLE IF EXISTS fire_risk_score\")\n",
    "fire_risk_schema = \"\"\"CREATE TABLE IF NOT EXISTS fire_risk_score (\n",
    "                         area_id     INTEGER   PRIMARY KEY, \n",
    "                         fire_risk   NUMERIC   NOT NULL)\"\"\"\n",
    "\n",
    "conn.execute(fire_risk_schema)\n",
    "\n",
    "fire_risk_df1.to_sql(\"fire_risk_score\", con=conn, if_exists='append',index=False)\n",
    "\n",
    "pgquery(conn, \"SELECT count(*) FROM fire_risk_score\")"
   ]
  },
  {
   "cell_type": "markdown",
   "metadata": {},
   "source": [
    "Read and save area_id, fire_risk, median_income, avg_monthly_rent into df"
   ]
  },
  {
   "cell_type": "code",
   "execution_count": 55,
   "metadata": {},
   "outputs": [
    {
     "name": "stdout",
     "output_type": "stream",
     "text": [
      "(315, 4)\n",
      "       area_id  fire_risk  median_income  avg_monthly_rent\n",
      "0    101051540   0.612987        62712.0             800.0\n",
      "1    102011028   0.523152        46996.0            1906.0\n",
      "2    102011029   0.834223        42621.0            1682.0\n",
      "3    102011030   0.588379        42105.0            1182.0\n",
      "4    102011031   0.491166        43481.0            1595.0\n",
      "5    102011032   0.441377        45972.0            1382.0\n",
      "6    102011033   0.453931        47896.0            1649.0\n",
      "7    102011034   0.493441        41642.0            1397.0\n",
      "8    102011035   0.999809        46660.0            1512.0\n",
      "9    102011036   0.506696        45762.0            1495.0\n",
      "10   102011037   0.456893        45966.0            1572.0\n",
      "11   102011038   0.628191        43171.0            1667.0\n",
      "12   102011039   0.501789        46422.0            2022.0\n",
      "13   102011040   0.454023        40252.0            1517.0\n",
      "14   102011041   0.587308        47295.0            1902.0\n",
      "15   102011042   0.876844        42481.0            1387.0\n",
      "16   102011043   0.432744        43438.0            1466.0\n",
      "17   102021044   0.495730        42469.0            1423.0\n",
      "18   102021045   0.773310        42641.0            1526.0\n",
      "19   102021046   0.611039        41702.0            1347.0\n",
      "20   102021047   0.967497        45015.0            1593.0\n",
      "21   102021048   0.482756        41051.0            1330.0\n",
      "22   102021049   0.474416        44122.0            1364.0\n",
      "23   102021050   0.894393        41152.0            1363.0\n",
      "24   102021051   0.454268        48214.0            1469.0\n",
      "25   102021052   0.671553        42683.0            1455.0\n",
      "26   102021053   0.763563        44137.0            1404.0\n",
      "27   102021054   0.572068        39615.0            1296.0\n",
      "28   102021055   0.648513        44360.0            1699.0\n",
      "29   102021056   0.824842        47983.0            1823.0\n",
      "30   102021057   0.675592        41055.0            1276.0\n",
      "31   103011060   0.631707        70512.0             720.0\n",
      "32   103011061   0.615371        62764.0             840.0\n",
      "33   103031070   0.239229        47788.0             920.0\n",
      "34   103031071   0.626782        58396.0             800.0\n",
      "35   106011109   0.902701        73164.0            1080.0\n",
      "36   106011113   0.762034        87984.0            1000.0\n",
      "37   111021218   0.519558        58084.0            1260.0\n",
      "38   114021285   0.639025        81120.0            1512.0\n",
      "39   114021289   0.713841        65572.0            1200.0\n",
      "40   115011290   0.393736        52019.0            2166.0\n",
      "41   115011291   0.317092        53703.0            2521.0\n",
      "42   115011294   0.422718        50112.0            2661.0\n",
      "43   115011296   0.635999        53907.0            2605.0\n",
      "44   115011553   0.430138        50992.0            2360.0\n",
      "45   115011554   0.339625        48100.0            2088.0\n",
      "46   115011555   0.401460        52307.0            2519.0\n",
      "47   115011556   0.395644        52563.0            2387.0\n",
      "48   115011557   0.374197        58568.0            2828.0\n",
      "49   115011558   0.371342        50744.0            2756.0\n",
      "50   115011559   0.364332        55461.0            2681.0\n",
      "51   115021297   0.958341        48550.0            1972.0\n",
      "52   115021298   0.501736        45128.0            1897.0\n",
      "53   115031299   0.940630        40176.0             906.0\n",
      "54   115031300   0.824034        49194.0            1619.0\n",
      "55   115041301   0.604427        50076.0            1793.0\n",
      "56   115041302   0.605205        56607.0            2605.0\n",
      "57   116011303   0.393958        45814.0            1587.0\n",
      "58   116011304   0.413721        45946.0            1493.0\n",
      "59   116011306   0.524855        49909.0            1371.0\n",
      "60   116011307   0.479782        49783.0            1435.0\n",
      "61   116011308   0.413235        48147.0            1587.0\n",
      "62   116011560   0.562157        45529.0            1567.0\n",
      "63   116011561   0.557294        46244.0            1680.0\n",
      "64   116021309   0.466663        54647.0            2411.0\n",
      "65   116021310   0.458834        60354.0            2462.0\n",
      "66   116021312   0.551622        49900.0            1891.0\n",
      "67   116021562   0.378173        57409.0            2245.0\n",
      "68   116021563   0.320987        53386.0            1895.0\n",
      "69   116031313   0.444993        42863.0            1123.0\n",
      "70   116031314   0.441243        50279.0            1713.0\n",
      "71   116031315   0.508474        49534.0            1750.0\n",
      "72   116031316   0.613538        46525.0            1253.0\n",
      "73   116031317   0.370724        42774.0            1383.0\n",
      "74   116031318   0.587080        53113.0               NaN\n",
      "75   116031319   1.000000        49012.0            1688.0\n",
      "76   117011320   0.486473        49680.0               NaN\n",
      "77   117011321   0.523616        56444.0            2133.0\n",
      "78   117011322   0.758867        47831.0            2160.0\n",
      "79   117011323   0.602669        47465.0            1705.0\n",
      "80   117021326   0.766033        51843.0            2001.0\n",
      "81   117021327   0.871593        58029.0            2173.0\n",
      "82   117021328   0.434116        55708.0            2452.0\n",
      "83   117031329   0.979504        59293.0            2491.0\n",
      "84   117031330   0.671706        69680.0            2581.0\n",
      "85   117031331   0.957467        56691.0            2162.0\n",
      "86   117031332   0.696200        58210.0            2270.0\n",
      "87   117031333   0.999987        58253.0            2256.0\n",
      "88   117031334   0.999982        47393.0            2575.0\n",
      "89   117031335   0.998144        51347.0            2193.0\n",
      "90   117031336   0.999685        58396.0            2342.0\n",
      "91   117031337   0.999876        27311.0            2998.0\n",
      "92   117031338   0.998384        57055.0            2302.0\n",
      "93   118011339   0.956583        60000.0            2699.0\n",
      "94   118011340   0.986847        59384.0            2783.0\n",
      "95   118011341   0.404227        56457.0            2630.0\n",
      "96   118011343   0.683924        72578.0            2883.0\n",
      "97   118011344   0.827359        61041.0            2677.0\n",
      "98   118011345   0.451884        71227.0            2627.0\n",
      "99   118011346   0.365186        68973.0            2890.0\n",
      "100  118011347   0.586489        70707.0            2879.0\n",
      "101  118021348   0.925053        65825.0            2453.0\n",
      "102  118021350   0.378542        52678.0            1846.0\n",
      "103  118021564   0.803505        50113.0            2315.0\n",
      "104  118021565   0.949314        45863.0            2312.0\n",
      "105  118021566   0.622301        57188.0            2564.0\n",
      "106  118021567   0.828450        52086.0            1817.0\n",
      "107  118021568   0.748294        50049.0            2547.0\n",
      "108  118021569   0.983864        63216.0            2465.0\n",
      "109  118021570   0.250621        58849.0            2459.0\n",
      "110  119011354   0.472108        42000.0            1386.0\n",
      "111  119011355   0.449568        41625.0            2280.0\n",
      "112  119011356   0.445376        40953.0            1877.0\n",
      "113  119011357   0.471914        38037.0            1525.0\n",
      "114  119011358   0.476869        47300.0            1668.0\n",
      "115  119011359   0.490251        50481.0            1712.0\n",
      "116  119011360   0.453099        47488.0            1679.0\n",
      "117  119011361   0.565145        40040.0            1545.0\n",
      "118  119011571   0.784899        38068.0            1621.0\n",
      "119  119011572   0.508359        38469.0            1573.0\n",
      "120  119021362   0.711826        41731.0            1609.0\n",
      "121  119021363   0.925678        37977.0            1750.0\n",
      "122  119021364   0.484166        48560.0            2074.0\n",
      "123  119021366   0.617904        36909.0            1581.0\n",
      "124  119021367   0.643390        42765.0            1750.0\n",
      "125  119021573   0.971605        33672.0            1563.0\n",
      "126  119021574   0.970458        35072.0            1554.0\n",
      "127  119031368   0.902397        38371.0            2023.0\n",
      "128  119031369   0.670662        48513.0            1827.0\n",
      "129  119031370   0.631699        41759.0            1620.0\n",
      "130  119031371   0.435359        50641.0            2081.0\n",
      "131  119031372   0.474608        47417.0            1743.0\n",
      "132  119031373   0.705355        40157.0            1259.0\n",
      "133  119031374   0.583554        44799.0            2046.0\n",
      "134  119041375   0.798699        45664.0            2255.0\n",
      "135  119041376   0.792657        44388.0            1937.0\n",
      "136  119041377   0.539417        45274.0            1915.0\n",
      "137  119041378   0.375841        47168.0            1996.0\n",
      "138  119041379   0.799748        46083.0            1968.0\n",
      "139  119041380   0.717600        49203.0            1960.0\n",
      "140  119041381   0.911113        42272.0            2024.0\n",
      "141  119041382   0.566496        50608.0            2009.0\n",
      "142  120011383   0.472489        54465.0            2439.0\n",
      "143  120011384   0.811234        49761.0            2473.0\n",
      "144  120011385   0.702644        64309.0            2467.0\n",
      "145  120011386   0.699767        60675.0            2299.0\n",
      "146  120021387   0.530730        75494.0            2478.0\n",
      "147  120021388   0.624520        65700.0            2359.0\n",
      "148  120021389   0.458468        72101.0            2570.0\n",
      "149  120031390   0.936877        44851.0            1936.0\n",
      "150  120031391   0.747666        40592.0            2163.0\n",
      "151  120031392   0.583200        51520.0            1991.0\n",
      "152  120031393   0.666062        47788.0            1855.0\n",
      "153  120031394   0.934637        56326.0            2020.0\n",
      "154  120031395   0.492844        55995.0            2040.0\n",
      "155  120031396   0.746143        44552.0            1988.0\n",
      "156  120031575   0.350016        43081.0            2185.0\n",
      "157  120031576   0.431655        50332.0            2035.0\n",
      "158  121011398   0.763600        51040.0            2542.0\n",
      "159  121011399   0.698703        56793.0            2333.0\n",
      "160  121011400   0.362273        66402.0            2455.0\n",
      "161  121011401   0.538815        73803.0            2626.0\n",
      "162  121011402   0.511754        64660.0            2780.0\n",
      "163  121021403   0.534093        52106.0            2263.0\n",
      "164  121021404   0.959074        50973.0            2231.0\n",
      "165  121021406   0.448524        53829.0            2040.0\n",
      "166  121021577   0.675125        48707.0            1958.0\n",
      "167  121021578   0.454146        49963.0            1843.0\n",
      "168  121021579   0.766386        52084.0            2136.0\n",
      "169  121031407   0.390572        54843.0            2810.0\n",
      "170  121031408   0.482415        60723.0            2724.0\n",
      "171  121031409   0.363410        60263.0            2849.0\n",
      "172  121031410   0.414583        54318.0            3045.0\n",
      "173  121031411   0.925840        54672.0            2643.0\n",
      "174  121031412   0.373915        59998.0            2736.0\n",
      "175  121041413   0.882315        71016.0            2610.0\n",
      "176  121041414   0.871478        69923.0            2522.0\n",
      "177  121041415   0.559080        71177.0            2629.0\n",
      "178  121041416   0.988848        69417.0            2416.0\n",
      "179  121041417   0.985527        71668.0            2749.0\n",
      "180  122011418   0.463030        63192.0            2777.0\n",
      "181  122011419   0.753664        61658.0            2823.0\n",
      "182  122021420   0.535154        47971.0            2774.0\n",
      "183  122021421   0.984133        49645.0            2560.0\n",
      "184  122021422   0.510866        51543.0            2635.0\n",
      "185  122021423   0.432285        50548.0            2668.0\n",
      "186  122031424   0.553224        46442.0            2081.0\n",
      "187  122031425   0.463572        48709.0            2600.0\n",
      "188  122031426   0.934326        51076.0            2257.0\n",
      "189  122031427   0.432178        51711.0            2584.0\n",
      "190  122031428   0.876646        50761.0            3121.0\n",
      "191  122031429   0.555636        58561.0            2462.0\n",
      "192  122031430   0.476166        53046.0            2237.0\n",
      "193  122031431   0.681801        52322.0            2376.0\n",
      "194  122031432   0.690168        53481.0            2573.0\n",
      "195  123011433   0.560237        52309.0            1608.0\n",
      "196  123011434   0.524195        54903.0            1907.0\n",
      "197  123011435   0.566318        55784.0            1927.0\n",
      "198  123021436   0.478226        46534.0            1318.0\n",
      "199  123021437   0.415321        47794.0            1538.0\n",
      "200  123021438   0.570268        48683.0            1373.0\n",
      "201  123021440   0.566554        48035.0            1546.0\n",
      "202  123021441   0.501780        47961.0            1439.0\n",
      "203  123021442   0.461806        46145.0            1384.0\n",
      "204  123021443   0.447591        46667.0            1394.0\n",
      "205  123021444   0.592422        47557.0            1414.0\n",
      "206  123031445   0.996376        47811.0            1625.0\n",
      "207  123031446   0.514847        53629.0            1673.0\n",
      "208  123031447   0.502210        49070.0            1507.0\n",
      "209  123031448   0.762662        48925.0            1449.0\n",
      "210  124011449   0.556832        39202.0            1352.0\n",
      "211  124011450   0.634648        52702.0            1741.0\n",
      "212  124011452   0.494376        37965.0            1349.0\n",
      "213  124011453   0.557444        46669.0            1433.0\n",
      "214  124011454   0.482206        49953.0            1596.0\n",
      "215  124011455   0.477754        42963.0            1547.0\n",
      "216  124031457   0.479445        49719.0            1578.0\n",
      "217  124031458   0.677408        53043.0            1771.0\n",
      "218  124031459   0.581289        53366.0            1664.0\n",
      "219  124031460   0.440902        56033.0            1885.0\n",
      "220  124031461   0.480218        50659.0            1574.0\n",
      "221  124031462   0.495340        48669.0            1404.0\n",
      "222  124031463   0.744220        55083.0            1921.0\n",
      "223  124031464   0.387751        47708.0            1376.0\n",
      "224  124031465   0.551756        50100.0            1526.0\n",
      "225  124041466   0.523351        46052.0            1518.0\n",
      "226  124041467   0.626140        49265.0            1495.0\n",
      "227  124041468   0.824859        46692.0            1660.0\n",
      "228  124051469   0.527422        51802.0            1828.0\n",
      "229  124051470   0.448589        51261.0            1755.0\n",
      "230  124051580   0.477268        46724.0            1526.0\n",
      "231  124051581   0.503304        45361.0            1401.0\n",
      "232  125011473   0.434228        56312.0            2302.0\n",
      "233  125011582   0.647980        30683.0            1860.0\n",
      "234  125011583   0.901049        30931.0            1638.0\n",
      "235  125011584   0.527577        35500.0            1665.0\n",
      "236  125011585   0.702271        36622.0            1608.0\n",
      "237  125011586   0.409449        37656.0            1991.0\n",
      "238  125011587   0.451727        39931.0            1506.0\n",
      "239  125021476   0.418136        44262.0            2157.0\n",
      "240  125021477   0.409905        47634.0            1560.0\n",
      "241  125021478   0.406724        45233.0            1539.0\n",
      "242  125031479   0.397010        40574.0            1437.0\n",
      "243  125031480   0.426513        38240.0            1238.0\n",
      "244  125031481   0.619237        38842.0            1617.0\n",
      "245  125031482   0.427586        50280.0            1880.0\n",
      "246  125031483   0.419480        37265.0            1416.0\n",
      "247  125031484   0.626992        42581.0            1587.0\n",
      "248  125031485   0.644437        43083.0            1662.0\n",
      "249  125031486   0.504767        57326.0               NaN\n",
      "250  125031487   0.478627        35000.0               NaN\n",
      "251  125041489   0.535127        50053.0            1770.0\n",
      "252  125041490   0.526427        49540.0            2322.0\n",
      "253  125041491   0.333124        53421.0            1854.0\n",
      "254  125041492   0.629490        45022.0            1812.0\n",
      "255  125041493   0.436997        48768.0            1697.0\n",
      "256  125041494   0.427006        53011.0            2092.0\n",
      "257  125041588   0.434277        47891.0            1605.0\n",
      "258  125041589   0.544429        47543.0            1652.0\n",
      "259  126011495   0.434928        48326.0            2301.0\n",
      "260  126011496   0.561170        54941.0            2248.0\n",
      "261  126021497   0.378787        43900.0            2018.0\n",
      "262  126021498   0.454510        58409.0            1955.0\n",
      "263  126021499   0.332990        69385.0            2175.0\n",
      "264  126021500   0.535552        49507.0            2029.0\n",
      "265  126021501   0.479988        50953.0            2105.0\n",
      "266  126021503   0.705593        50035.0            1913.0\n",
      "267  126021590   0.297990        55111.0            2760.0\n",
      "268  126021591   0.684082        49745.0            2055.0\n",
      "269  127011504   0.493335        39804.0            1078.0\n",
      "270  127011505   0.598466        43499.0            1658.0\n",
      "271  127011506   0.615822        52101.0            2130.0\n",
      "272  127011592   0.531474        46021.0             553.0\n",
      "273  127011593   0.504690        49992.0            2185.0\n",
      "274  127011594   0.546512        44997.0            1709.0\n",
      "275  127011595   0.445192        47263.0            1969.0\n",
      "276  127011596   0.459783        50130.0            2010.0\n",
      "277  127011597   0.484081        52146.0            2129.0\n",
      "278  127021509   0.449006        43245.0            1447.0\n",
      "279  127021510   0.531488        46473.0            1791.0\n",
      "280  127021511   0.422146        36969.0            1354.0\n",
      "281  127021512   0.470490        41018.0            1376.0\n",
      "282  127021513   0.556251        39741.0            1405.0\n",
      "283  127021514   0.463952        44267.0            1681.0\n",
      "284  127021515   0.559569        39685.0            1478.0\n",
      "285  127021516   0.579880        39701.0            1679.0\n",
      "286  127021517   0.406651        45071.0            1640.0\n",
      "287  127021518   0.516876        48258.0            1684.0\n",
      "288  127021519   0.421019        43457.0            1535.0\n",
      "289  127021520   0.446395        43397.0            1727.0\n",
      "290  127021521   0.559965        46348.0               NaN\n",
      "291  127031522   0.398586        47580.0            1703.0\n",
      "292  127031523   0.499599        50891.0            1913.0\n",
      "293  127031524   0.867493        57000.0            1805.0\n",
      "294  127031598   0.562716        42303.0            1495.0\n",
      "295  127031599   0.515039        40864.0            1217.0\n",
      "296  127031600   0.461362        51121.0            2044.0\n",
      "297  127031601   0.528250        43106.0            1275.0\n",
      "298  128011529   0.472429        52871.0            2113.0\n",
      "299  128011530   0.365440        50319.0            1879.0\n",
      "300  128011531   0.460237        47383.0            2059.0\n",
      "301  128011602   0.482061        52754.0            1814.0\n",
      "302  128011603   0.428708        52088.0            2606.0\n",
      "303  128011604   0.652372        55083.0            2027.0\n",
      "304  128011605   0.391203        57429.0            3086.0\n",
      "305  128011606   0.410861        56652.0            2200.0\n",
      "306  128021533   0.453051        49791.0            1785.0\n",
      "307  128021534   0.697412        51600.0            2608.0\n",
      "308  128021535   0.785128        54420.0            2183.0\n",
      "309  128021536   0.432069        55391.0            1947.0\n",
      "310  128021537   0.931065            NaN            1899.0\n",
      "311  128021538   0.436536        53378.0            1809.0\n",
      "312  128021607   0.424897        52667.0            1955.0\n",
      "313  128021608   0.438923        51243.0            2163.0\n",
      "314  128021609   0.999963        54935.0            2300.0\n"
     ]
    },
    {
     "data": {
      "text/html": [
       "<div>\n",
       "<style scoped>\n",
       "    .dataframe tbody tr th:only-of-type {\n",
       "        vertical-align: middle;\n",
       "    }\n",
       "\n",
       "    .dataframe tbody tr th {\n",
       "        vertical-align: top;\n",
       "    }\n",
       "\n",
       "    .dataframe thead th {\n",
       "        text-align: right;\n",
       "    }\n",
       "</style>\n",
       "<table border=\"1\" class=\"dataframe\">\n",
       "  <thead>\n",
       "    <tr style=\"text-align: right;\">\n",
       "      <th></th>\n",
       "      <th>area_id</th>\n",
       "      <th>fire_risk</th>\n",
       "      <th>median_income</th>\n",
       "      <th>avg_monthly_rent</th>\n",
       "    </tr>\n",
       "  </thead>\n",
       "  <tbody>\n",
       "    <tr>\n",
       "      <th>0</th>\n",
       "      <td>101051540</td>\n",
       "      <td>0.612987</td>\n",
       "      <td>62712.0</td>\n",
       "      <td>800.0</td>\n",
       "    </tr>\n",
       "    <tr>\n",
       "      <th>1</th>\n",
       "      <td>102011028</td>\n",
       "      <td>0.523152</td>\n",
       "      <td>46996.0</td>\n",
       "      <td>1906.0</td>\n",
       "    </tr>\n",
       "    <tr>\n",
       "      <th>2</th>\n",
       "      <td>102011029</td>\n",
       "      <td>0.834223</td>\n",
       "      <td>42621.0</td>\n",
       "      <td>1682.0</td>\n",
       "    </tr>\n",
       "    <tr>\n",
       "      <th>3</th>\n",
       "      <td>102011030</td>\n",
       "      <td>0.588379</td>\n",
       "      <td>42105.0</td>\n",
       "      <td>1182.0</td>\n",
       "    </tr>\n",
       "    <tr>\n",
       "      <th>4</th>\n",
       "      <td>102011031</td>\n",
       "      <td>0.491166</td>\n",
       "      <td>43481.0</td>\n",
       "      <td>1595.0</td>\n",
       "    </tr>\n",
       "    <tr>\n",
       "      <th>...</th>\n",
       "      <td>...</td>\n",
       "      <td>...</td>\n",
       "      <td>...</td>\n",
       "      <td>...</td>\n",
       "    </tr>\n",
       "    <tr>\n",
       "      <th>310</th>\n",
       "      <td>128021537</td>\n",
       "      <td>0.931065</td>\n",
       "      <td>NaN</td>\n",
       "      <td>1899.0</td>\n",
       "    </tr>\n",
       "    <tr>\n",
       "      <th>311</th>\n",
       "      <td>128021538</td>\n",
       "      <td>0.436536</td>\n",
       "      <td>53378.0</td>\n",
       "      <td>1809.0</td>\n",
       "    </tr>\n",
       "    <tr>\n",
       "      <th>312</th>\n",
       "      <td>128021607</td>\n",
       "      <td>0.424897</td>\n",
       "      <td>52667.0</td>\n",
       "      <td>1955.0</td>\n",
       "    </tr>\n",
       "    <tr>\n",
       "      <th>313</th>\n",
       "      <td>128021608</td>\n",
       "      <td>0.438923</td>\n",
       "      <td>51243.0</td>\n",
       "      <td>2163.0</td>\n",
       "    </tr>\n",
       "    <tr>\n",
       "      <th>314</th>\n",
       "      <td>128021609</td>\n",
       "      <td>0.999963</td>\n",
       "      <td>54935.0</td>\n",
       "      <td>2300.0</td>\n",
       "    </tr>\n",
       "  </tbody>\n",
       "</table>\n",
       "<p>315 rows × 4 columns</p>\n",
       "</div>"
      ],
      "text/plain": [
       "       area_id  fire_risk  median_income  avg_monthly_rent\n",
       "0    101051540   0.612987        62712.0             800.0\n",
       "1    102011028   0.523152        46996.0            1906.0\n",
       "2    102011029   0.834223        42621.0            1682.0\n",
       "3    102011030   0.588379        42105.0            1182.0\n",
       "4    102011031   0.491166        43481.0            1595.0\n",
       "..         ...        ...            ...               ...\n",
       "310  128021537   0.931065            NaN            1899.0\n",
       "311  128021538   0.436536        53378.0            1809.0\n",
       "312  128021607   0.424897        52667.0            1955.0\n",
       "313  128021608   0.438923        51243.0            2163.0\n",
       "314  128021609   0.999963        54935.0            2300.0\n",
       "\n",
       "[315 rows x 4 columns]"
      ]
     },
     "execution_count": 55,
     "metadata": {},
     "output_type": "execute_result"
    }
   ],
   "source": [
    "query = \"\"\"SELECT area_id, fire_risk, median_income, avg_monthly_rent\n",
    "           FROM fire_risk JOIN neighbourhoods USING(area_id)\n",
    "           WHERE median_income IS NOT NULL OR avg_monthly_rent IS NOT NULL\"\"\"\n",
    "retval,retdf = pgquery(conn, query)\n",
    "\n",
    "SQL_query = pd.read_sql_query(query, conn)\n",
    "correlation_df = pd.DataFrame(SQL_query, columns = [\"area_id\", \"fire_risk\", \"median_income\", \"avg_monthly_rent\"])\n",
    "correlation_df"
   ]
  },
  {
   "cell_type": "markdown",
   "metadata": {},
   "source": [
    "Find the correlation between fire risk and the median income and rent of a neighbourhood"
   ]
  },
  {
   "cell_type": "code",
   "execution_count": 56,
   "metadata": {},
   "outputs": [],
   "source": [
    "correlation_df = correlation_df.dropna()"
   ]
  },
  {
   "cell_type": "code",
   "execution_count": 57,
   "metadata": {},
   "outputs": [
    {
     "name": "stdout",
     "output_type": "stream",
     "text": [
      "0.051099773438221245\n",
      "0.3706820338486039\n",
      "0.08608023784056609\n",
      "0.13108844034277745\n"
     ]
    }
   ],
   "source": [
    "r1, p1 = scipy.stats.pearsonr(correlation_df[\"fire_risk\"], correlation_df[\"median_income\"])\n",
    "r2, p2 = scipy.stats.pearsonr(correlation_df[\"fire_risk\"], correlation_df[\"avg_monthly_rent\"])\n",
    "print(r1)\n",
    "print(p1)\n",
    "print(r2)\n",
    "print(p2)"
   ]
  },
  {
   "cell_type": "markdown",
   "metadata": {},
   "source": [
    "All the tables and views have been created, drop if needed"
   ]
  },
  {
   "cell_type": "code",
   "execution_count": 58,
   "metadata": {},
   "outputs": [],
   "source": [
    "conn.close()\n",
    "db.dispose()"
   ]
  }
 ],
 "metadata": {
  "kernelspec": {
   "display_name": "Python 3",
   "language": "python",
   "name": "python3"
  },
  "language_info": {
   "codemirror_mode": {
    "name": "ipython",
    "version": 3
   },
   "file_extension": ".py",
   "mimetype": "text/x-python",
   "name": "python",
   "nbconvert_exporter": "python",
   "pygments_lexer": "ipython3",
   "version": "3.8.5"
  }
 },
 "nbformat": 4,
 "nbformat_minor": 4
}
